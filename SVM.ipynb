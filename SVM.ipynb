{
 "cells": [
  {
   "cell_type": "code",
   "execution_count": 1,
   "id": "a4360705",
   "metadata": {},
   "outputs": [],
   "source": [
    "from sklearn import svm\n",
    "import pandas as pd"
   ]
  },
  {
   "cell_type": "code",
   "execution_count": 2,
   "id": "4c769367",
   "metadata": {},
   "outputs": [],
   "source": [
    "from sklearn.preprocessing import StandardScaler, MinMaxScaler,LabelEncoder\n",
    "from sklearn.model_selection import cross_val_score,cross_validate\n",
    "from sklearn.metrics import confusion_matrix, accuracy_score, classification_report, make_scorer, precision_score, recall_score, f1_score\n",
    "import seaborn as sns"
   ]
  },
  {
   "cell_type": "code",
   "execution_count": 3,
   "id": "498f7eb2",
   "metadata": {},
   "outputs": [
    {
     "data": {
      "text/html": [
       "<div>\n",
       "<style scoped>\n",
       "    .dataframe tbody tr th:only-of-type {\n",
       "        vertical-align: middle;\n",
       "    }\n",
       "\n",
       "    .dataframe tbody tr th {\n",
       "        vertical-align: top;\n",
       "    }\n",
       "\n",
       "    .dataframe thead th {\n",
       "        text-align: right;\n",
       "    }\n",
       "</style>\n",
       "<table border=\"1\" class=\"dataframe\">\n",
       "  <thead>\n",
       "    <tr style=\"text-align: right;\">\n",
       "      <th></th>\n",
       "      <th>person_age</th>\n",
       "      <th>person_gender</th>\n",
       "      <th>person_education</th>\n",
       "      <th>person_income</th>\n",
       "      <th>person_emp_exp</th>\n",
       "      <th>person_home_ownership</th>\n",
       "      <th>loan_amnt</th>\n",
       "      <th>loan_intent</th>\n",
       "      <th>loan_int_rate</th>\n",
       "      <th>loan_percent_income</th>\n",
       "      <th>cb_person_cred_hist_length</th>\n",
       "      <th>credit_score</th>\n",
       "      <th>previous_loan_defaults_on_file</th>\n",
       "      <th>loan_status</th>\n",
       "    </tr>\n",
       "  </thead>\n",
       "  <tbody>\n",
       "    <tr>\n",
       "      <th>0</th>\n",
       "      <td>22.0</td>\n",
       "      <td>female</td>\n",
       "      <td>Master</td>\n",
       "      <td>71948.0</td>\n",
       "      <td>0</td>\n",
       "      <td>RENT</td>\n",
       "      <td>35000.0</td>\n",
       "      <td>PERSONAL</td>\n",
       "      <td>16.02</td>\n",
       "      <td>0.49</td>\n",
       "      <td>3.0</td>\n",
       "      <td>561</td>\n",
       "      <td>No</td>\n",
       "      <td>1</td>\n",
       "    </tr>\n",
       "    <tr>\n",
       "      <th>1</th>\n",
       "      <td>21.0</td>\n",
       "      <td>female</td>\n",
       "      <td>High School</td>\n",
       "      <td>12282.0</td>\n",
       "      <td>0</td>\n",
       "      <td>OWN</td>\n",
       "      <td>1000.0</td>\n",
       "      <td>EDUCATION</td>\n",
       "      <td>11.14</td>\n",
       "      <td>0.08</td>\n",
       "      <td>2.0</td>\n",
       "      <td>504</td>\n",
       "      <td>Yes</td>\n",
       "      <td>0</td>\n",
       "    </tr>\n",
       "    <tr>\n",
       "      <th>2</th>\n",
       "      <td>25.0</td>\n",
       "      <td>female</td>\n",
       "      <td>High School</td>\n",
       "      <td>12438.0</td>\n",
       "      <td>3</td>\n",
       "      <td>MORTGAGE</td>\n",
       "      <td>5500.0</td>\n",
       "      <td>MEDICAL</td>\n",
       "      <td>12.87</td>\n",
       "      <td>0.44</td>\n",
       "      <td>3.0</td>\n",
       "      <td>635</td>\n",
       "      <td>No</td>\n",
       "      <td>1</td>\n",
       "    </tr>\n",
       "    <tr>\n",
       "      <th>3</th>\n",
       "      <td>23.0</td>\n",
       "      <td>female</td>\n",
       "      <td>Bachelor</td>\n",
       "      <td>79753.0</td>\n",
       "      <td>0</td>\n",
       "      <td>RENT</td>\n",
       "      <td>35000.0</td>\n",
       "      <td>MEDICAL</td>\n",
       "      <td>15.23</td>\n",
       "      <td>0.44</td>\n",
       "      <td>2.0</td>\n",
       "      <td>675</td>\n",
       "      <td>No</td>\n",
       "      <td>1</td>\n",
       "    </tr>\n",
       "    <tr>\n",
       "      <th>4</th>\n",
       "      <td>24.0</td>\n",
       "      <td>male</td>\n",
       "      <td>Master</td>\n",
       "      <td>66135.0</td>\n",
       "      <td>1</td>\n",
       "      <td>RENT</td>\n",
       "      <td>35000.0</td>\n",
       "      <td>MEDICAL</td>\n",
       "      <td>14.27</td>\n",
       "      <td>0.53</td>\n",
       "      <td>4.0</td>\n",
       "      <td>586</td>\n",
       "      <td>No</td>\n",
       "      <td>1</td>\n",
       "    </tr>\n",
       "  </tbody>\n",
       "</table>\n",
       "</div>"
      ],
      "text/plain": [
       "   person_age person_gender person_education  person_income  person_emp_exp  \\\n",
       "0        22.0        female           Master        71948.0               0   \n",
       "1        21.0        female      High School        12282.0               0   \n",
       "2        25.0        female      High School        12438.0               3   \n",
       "3        23.0        female         Bachelor        79753.0               0   \n",
       "4        24.0          male           Master        66135.0               1   \n",
       "\n",
       "  person_home_ownership  loan_amnt loan_intent  loan_int_rate  \\\n",
       "0                  RENT    35000.0    PERSONAL          16.02   \n",
       "1                   OWN     1000.0   EDUCATION          11.14   \n",
       "2              MORTGAGE     5500.0     MEDICAL          12.87   \n",
       "3                  RENT    35000.0     MEDICAL          15.23   \n",
       "4                  RENT    35000.0     MEDICAL          14.27   \n",
       "\n",
       "   loan_percent_income  cb_person_cred_hist_length  credit_score  \\\n",
       "0                 0.49                         3.0           561   \n",
       "1                 0.08                         2.0           504   \n",
       "2                 0.44                         3.0           635   \n",
       "3                 0.44                         2.0           675   \n",
       "4                 0.53                         4.0           586   \n",
       "\n",
       "  previous_loan_defaults_on_file  loan_status  \n",
       "0                             No            1  \n",
       "1                            Yes            0  \n",
       "2                             No            1  \n",
       "3                             No            1  \n",
       "4                             No            1  "
      ]
     },
     "execution_count": 3,
     "metadata": {},
     "output_type": "execute_result"
    }
   ],
   "source": [
    "df = pd.read_csv(\"loan_data.csv\")\n",
    "df.head()"
   ]
  },
  {
   "cell_type": "code",
   "execution_count": 4,
   "id": "0f5445d4",
   "metadata": {},
   "outputs": [],
   "source": [
    "df['person_gender'] =(df['person_gender']=='male').astype(int)\n",
    "df['previous_loan_defaults_on_file'] =(df['previous_loan_defaults_on_file']=='Yes').astype(int)\n",
    "df['person_education'] = LabelEncoder().fit_transform(df['person_education'])\n",
    "df['person_home_ownership'] = LabelEncoder().fit_transform(df['person_home_ownership'])\n",
    "df['loan_intent'] = LabelEncoder().fit_transform(df['loan_intent'])\n",
    "\n",
    "\n"
   ]
  },
  {
   "cell_type": "code",
   "execution_count": 5,
   "id": "05eb9dba",
   "metadata": {
    "scrolled": true
   },
   "outputs": [
    {
     "data": {
      "text/html": [
       "<div>\n",
       "<style scoped>\n",
       "    .dataframe tbody tr th:only-of-type {\n",
       "        vertical-align: middle;\n",
       "    }\n",
       "\n",
       "    .dataframe tbody tr th {\n",
       "        vertical-align: top;\n",
       "    }\n",
       "\n",
       "    .dataframe thead th {\n",
       "        text-align: right;\n",
       "    }\n",
       "</style>\n",
       "<table border=\"1\" class=\"dataframe\">\n",
       "  <thead>\n",
       "    <tr style=\"text-align: right;\">\n",
       "      <th></th>\n",
       "      <th>person_age</th>\n",
       "      <th>person_gender</th>\n",
       "      <th>person_education</th>\n",
       "      <th>person_income</th>\n",
       "      <th>person_emp_exp</th>\n",
       "      <th>person_home_ownership</th>\n",
       "      <th>loan_amnt</th>\n",
       "      <th>loan_intent</th>\n",
       "      <th>loan_int_rate</th>\n",
       "      <th>loan_percent_income</th>\n",
       "      <th>cb_person_cred_hist_length</th>\n",
       "      <th>credit_score</th>\n",
       "      <th>previous_loan_defaults_on_file</th>\n",
       "      <th>loan_status</th>\n",
       "    </tr>\n",
       "  </thead>\n",
       "  <tbody>\n",
       "    <tr>\n",
       "      <th>0</th>\n",
       "      <td>22.0</td>\n",
       "      <td>0</td>\n",
       "      <td>4</td>\n",
       "      <td>71948.0</td>\n",
       "      <td>0</td>\n",
       "      <td>3</td>\n",
       "      <td>35000.0</td>\n",
       "      <td>4</td>\n",
       "      <td>16.02</td>\n",
       "      <td>0.49</td>\n",
       "      <td>3.0</td>\n",
       "      <td>561</td>\n",
       "      <td>0</td>\n",
       "      <td>1</td>\n",
       "    </tr>\n",
       "    <tr>\n",
       "      <th>1</th>\n",
       "      <td>21.0</td>\n",
       "      <td>0</td>\n",
       "      <td>3</td>\n",
       "      <td>12282.0</td>\n",
       "      <td>0</td>\n",
       "      <td>2</td>\n",
       "      <td>1000.0</td>\n",
       "      <td>1</td>\n",
       "      <td>11.14</td>\n",
       "      <td>0.08</td>\n",
       "      <td>2.0</td>\n",
       "      <td>504</td>\n",
       "      <td>1</td>\n",
       "      <td>0</td>\n",
       "    </tr>\n",
       "    <tr>\n",
       "      <th>2</th>\n",
       "      <td>25.0</td>\n",
       "      <td>0</td>\n",
       "      <td>3</td>\n",
       "      <td>12438.0</td>\n",
       "      <td>3</td>\n",
       "      <td>0</td>\n",
       "      <td>5500.0</td>\n",
       "      <td>3</td>\n",
       "      <td>12.87</td>\n",
       "      <td>0.44</td>\n",
       "      <td>3.0</td>\n",
       "      <td>635</td>\n",
       "      <td>0</td>\n",
       "      <td>1</td>\n",
       "    </tr>\n",
       "    <tr>\n",
       "      <th>3</th>\n",
       "      <td>23.0</td>\n",
       "      <td>0</td>\n",
       "      <td>1</td>\n",
       "      <td>79753.0</td>\n",
       "      <td>0</td>\n",
       "      <td>3</td>\n",
       "      <td>35000.0</td>\n",
       "      <td>3</td>\n",
       "      <td>15.23</td>\n",
       "      <td>0.44</td>\n",
       "      <td>2.0</td>\n",
       "      <td>675</td>\n",
       "      <td>0</td>\n",
       "      <td>1</td>\n",
       "    </tr>\n",
       "    <tr>\n",
       "      <th>4</th>\n",
       "      <td>24.0</td>\n",
       "      <td>1</td>\n",
       "      <td>4</td>\n",
       "      <td>66135.0</td>\n",
       "      <td>1</td>\n",
       "      <td>3</td>\n",
       "      <td>35000.0</td>\n",
       "      <td>3</td>\n",
       "      <td>14.27</td>\n",
       "      <td>0.53</td>\n",
       "      <td>4.0</td>\n",
       "      <td>586</td>\n",
       "      <td>0</td>\n",
       "      <td>1</td>\n",
       "    </tr>\n",
       "  </tbody>\n",
       "</table>\n",
       "</div>"
      ],
      "text/plain": [
       "   person_age  person_gender  person_education  person_income  person_emp_exp  \\\n",
       "0        22.0              0                 4        71948.0               0   \n",
       "1        21.0              0                 3        12282.0               0   \n",
       "2        25.0              0                 3        12438.0               3   \n",
       "3        23.0              0                 1        79753.0               0   \n",
       "4        24.0              1                 4        66135.0               1   \n",
       "\n",
       "   person_home_ownership  loan_amnt  loan_intent  loan_int_rate  \\\n",
       "0                      3    35000.0            4          16.02   \n",
       "1                      2     1000.0            1          11.14   \n",
       "2                      0     5500.0            3          12.87   \n",
       "3                      3    35000.0            3          15.23   \n",
       "4                      3    35000.0            3          14.27   \n",
       "\n",
       "   loan_percent_income  cb_person_cred_hist_length  credit_score  \\\n",
       "0                 0.49                         3.0           561   \n",
       "1                 0.08                         2.0           504   \n",
       "2                 0.44                         3.0           635   \n",
       "3                 0.44                         2.0           675   \n",
       "4                 0.53                         4.0           586   \n",
       "\n",
       "   previous_loan_defaults_on_file  loan_status  \n",
       "0                               0            1  \n",
       "1                               1            0  \n",
       "2                               0            1  \n",
       "3                               0            1  \n",
       "4                               0            1  "
      ]
     },
     "execution_count": 5,
     "metadata": {},
     "output_type": "execute_result"
    }
   ],
   "source": [
    "df.head()"
   ]
  },
  {
   "cell_type": "code",
   "execution_count": 6,
   "id": "1de6ab03",
   "metadata": {},
   "outputs": [
    {
     "data": {
      "text/plain": [
       "45000"
      ]
     },
     "execution_count": 6,
     "metadata": {},
     "output_type": "execute_result"
    }
   ],
   "source": [
    "len(df)"
   ]
  },
  {
   "cell_type": "code",
   "execution_count": 8,
   "id": "3ff9d19e",
   "metadata": {},
   "outputs": [],
   "source": [
    "X = df.iloc[:, :-1].values\n",
    "y = df.iloc[:, -1].values"
   ]
  },
  {
   "cell_type": "code",
   "execution_count": 9,
   "id": "3ae6a07d",
   "metadata": {},
   "outputs": [],
   "source": [
    "from sklearn.model_selection import train_test_split\n",
    "X_train, X_test, y_train, y_test = train_test_split(X, y, test_size = 0.35, random_state = 0)"
   ]
  },
  {
   "cell_type": "code",
   "execution_count": 10,
   "id": "881bea81",
   "metadata": {},
   "outputs": [],
   "source": [
    "from sklearn.model_selection import GridSearchCV"
   ]
  },
  {
   "cell_type": "code",
   "execution_count": 12,
   "id": "fcc16229",
   "metadata": {
    "scrolled": true
   },
   "outputs": [
    {
     "name": "stdout",
     "output_type": "stream",
     "text": [
      "Fitting 2 folds for each of 27 candidates, totalling 54 fits\n",
      "[CV 1/2; 1/27] START C=1, cache_size=200, degree=3, kernel=rbf..................\n",
      "[CV 1/2; 1/27] END C=1, cache_size=200, degree=3, kernel=rbf; accuracy: (train=0.778, test=0.778) f1: (train=0.015, test=0.016) total time=  15.3s\n",
      "[CV 2/2; 1/27] START C=1, cache_size=200, degree=3, kernel=rbf..................\n",
      "[CV 2/2; 1/27] END C=1, cache_size=200, degree=3, kernel=rbf; accuracy: (train=0.801, test=0.802) f1: (train=0.239, test=0.251) total time=  15.3s\n",
      "[CV 1/2; 2/27] START C=1, cache_size=200, degree=4, kernel=rbf..................\n",
      "[CV 1/2; 2/27] END C=1, cache_size=200, degree=4, kernel=rbf; accuracy: (train=0.778, test=0.778) f1: (train=0.015, test=0.016) total time=  15.1s\n",
      "[CV 2/2; 2/27] START C=1, cache_size=200, degree=4, kernel=rbf..................\n",
      "[CV 2/2; 2/27] END C=1, cache_size=200, degree=4, kernel=rbf; accuracy: (train=0.801, test=0.802) f1: (train=0.239, test=0.251) total time=  15.3s\n",
      "[CV 1/2; 3/27] START C=1, cache_size=200, degree=5, kernel=rbf..................\n",
      "[CV 1/2; 3/27] END C=1, cache_size=200, degree=5, kernel=rbf; accuracy: (train=0.778, test=0.778) f1: (train=0.015, test=0.016) total time=  15.2s\n",
      "[CV 2/2; 3/27] START C=1, cache_size=200, degree=5, kernel=rbf..................\n",
      "[CV 2/2; 3/27] END C=1, cache_size=200, degree=5, kernel=rbf; accuracy: (train=0.801, test=0.802) f1: (train=0.239, test=0.251) total time=  15.3s\n",
      "[CV 1/2; 4/27] START C=1, cache_size=2000, degree=3, kernel=rbf.................\n",
      "[CV 1/2; 4/27] END C=1, cache_size=2000, degree=3, kernel=rbf; accuracy: (train=0.778, test=0.778) f1: (train=0.015, test=0.016) total time=  15.2s\n",
      "[CV 2/2; 4/27] START C=1, cache_size=2000, degree=3, kernel=rbf.................\n",
      "[CV 2/2; 4/27] END C=1, cache_size=2000, degree=3, kernel=rbf; accuracy: (train=0.801, test=0.802) f1: (train=0.239, test=0.251) total time=  15.6s\n",
      "[CV 1/2; 5/27] START C=1, cache_size=2000, degree=4, kernel=rbf.................\n",
      "[CV 1/2; 5/27] END C=1, cache_size=2000, degree=4, kernel=rbf; accuracy: (train=0.778, test=0.778) f1: (train=0.015, test=0.016) total time=  15.3s\n",
      "[CV 2/2; 5/27] START C=1, cache_size=2000, degree=4, kernel=rbf.................\n",
      "[CV 2/2; 5/27] END C=1, cache_size=2000, degree=4, kernel=rbf; accuracy: (train=0.801, test=0.802) f1: (train=0.239, test=0.251) total time=  15.5s\n",
      "[CV 1/2; 6/27] START C=1, cache_size=2000, degree=5, kernel=rbf.................\n",
      "[CV 1/2; 6/27] END C=1, cache_size=2000, degree=5, kernel=rbf; accuracy: (train=0.778, test=0.778) f1: (train=0.015, test=0.016) total time=  15.2s\n",
      "[CV 2/2; 6/27] START C=1, cache_size=2000, degree=5, kernel=rbf.................\n",
      "[CV 2/2; 6/27] END C=1, cache_size=2000, degree=5, kernel=rbf; accuracy: (train=0.801, test=0.802) f1: (train=0.239, test=0.251) total time=  15.7s\n",
      "[CV 1/2; 7/27] START C=1, cache_size=6000, degree=3, kernel=rbf.................\n",
      "[CV 1/2; 7/27] END C=1, cache_size=6000, degree=3, kernel=rbf; accuracy: (train=0.778, test=0.778) f1: (train=0.015, test=0.016) total time=  15.3s\n",
      "[CV 2/2; 7/27] START C=1, cache_size=6000, degree=3, kernel=rbf.................\n",
      "[CV 2/2; 7/27] END C=1, cache_size=6000, degree=3, kernel=rbf; accuracy: (train=0.801, test=0.802) f1: (train=0.239, test=0.251) total time=  15.6s\n",
      "[CV 1/2; 8/27] START C=1, cache_size=6000, degree=4, kernel=rbf.................\n",
      "[CV 1/2; 8/27] END C=1, cache_size=6000, degree=4, kernel=rbf; accuracy: (train=0.778, test=0.778) f1: (train=0.015, test=0.016) total time=  15.3s\n",
      "[CV 2/2; 8/27] START C=1, cache_size=6000, degree=4, kernel=rbf.................\n",
      "[CV 2/2; 8/27] END C=1, cache_size=6000, degree=4, kernel=rbf; accuracy: (train=0.801, test=0.802) f1: (train=0.239, test=0.251) total time=  15.6s\n",
      "[CV 1/2; 9/27] START C=1, cache_size=6000, degree=5, kernel=rbf.................\n",
      "[CV 1/2; 9/27] END C=1, cache_size=6000, degree=5, kernel=rbf; accuracy: (train=0.778, test=0.778) f1: (train=0.015, test=0.016) total time=  15.4s\n",
      "[CV 2/2; 9/27] START C=1, cache_size=6000, degree=5, kernel=rbf.................\n",
      "[CV 2/2; 9/27] END C=1, cache_size=6000, degree=5, kernel=rbf; accuracy: (train=0.801, test=0.802) f1: (train=0.239, test=0.251) total time=  15.6s\n",
      "[CV 1/2; 10/27] START C=2, cache_size=200, degree=3, kernel=rbf.................\n",
      "[CV 1/2; 10/27] END C=2, cache_size=200, degree=3, kernel=rbf; accuracy: (train=0.802, test=0.800) f1: (train=0.243, test=0.223) total time=  15.5s\n",
      "[CV 2/2; 10/27] START C=2, cache_size=200, degree=3, kernel=rbf.................\n",
      "[CV 2/2; 10/27] END C=2, cache_size=200, degree=3, kernel=rbf; accuracy: (train=0.808, test=0.811) f1: (train=0.308, test=0.324) total time=  16.5s\n",
      "[CV 1/2; 11/27] START C=2, cache_size=200, degree=4, kernel=rbf.................\n",
      "[CV 1/2; 11/27] END C=2, cache_size=200, degree=4, kernel=rbf; accuracy: (train=0.802, test=0.800) f1: (train=0.243, test=0.223) total time=  15.5s\n",
      "[CV 2/2; 11/27] START C=2, cache_size=200, degree=4, kernel=rbf.................\n",
      "[CV 2/2; 11/27] END C=2, cache_size=200, degree=4, kernel=rbf; accuracy: (train=0.808, test=0.811) f1: (train=0.308, test=0.324) total time=  15.0s\n",
      "[CV 1/2; 12/27] START C=2, cache_size=200, degree=5, kernel=rbf.................\n",
      "[CV 1/2; 12/27] END C=2, cache_size=200, degree=5, kernel=rbf; accuracy: (train=0.802, test=0.800) f1: (train=0.243, test=0.223) total time=  15.4s\n",
      "[CV 2/2; 12/27] START C=2, cache_size=200, degree=5, kernel=rbf.................\n",
      "[CV 2/2; 12/27] END C=2, cache_size=200, degree=5, kernel=rbf; accuracy: (train=0.808, test=0.811) f1: (train=0.308, test=0.324) total time=  15.1s\n",
      "[CV 1/2; 13/27] START C=2, cache_size=2000, degree=3, kernel=rbf................\n",
      "[CV 1/2; 13/27] END C=2, cache_size=2000, degree=3, kernel=rbf; accuracy: (train=0.802, test=0.800) f1: (train=0.243, test=0.223) total time=  15.6s\n",
      "[CV 2/2; 13/27] START C=2, cache_size=2000, degree=3, kernel=rbf................\n",
      "[CV 2/2; 13/27] END C=2, cache_size=2000, degree=3, kernel=rbf; accuracy: (train=0.808, test=0.811) f1: (train=0.308, test=0.324) total time=  15.2s\n",
      "[CV 1/2; 14/27] START C=2, cache_size=2000, degree=4, kernel=rbf................\n",
      "[CV 1/2; 14/27] END C=2, cache_size=2000, degree=4, kernel=rbf; accuracy: (train=0.802, test=0.800) f1: (train=0.243, test=0.223) total time=  15.5s\n",
      "[CV 2/2; 14/27] START C=2, cache_size=2000, degree=4, kernel=rbf................\n",
      "[CV 2/2; 14/27] END C=2, cache_size=2000, degree=4, kernel=rbf; accuracy: (train=0.808, test=0.811) f1: (train=0.308, test=0.324) total time=  15.6s\n",
      "[CV 1/2; 15/27] START C=2, cache_size=2000, degree=5, kernel=rbf................\n",
      "[CV 1/2; 15/27] END C=2, cache_size=2000, degree=5, kernel=rbf; accuracy: (train=0.802, test=0.800) f1: (train=0.243, test=0.223) total time=  15.6s\n",
      "[CV 2/2; 15/27] START C=2, cache_size=2000, degree=5, kernel=rbf................\n",
      "[CV 2/2; 15/27] END C=2, cache_size=2000, degree=5, kernel=rbf; accuracy: (train=0.808, test=0.811) f1: (train=0.308, test=0.324) total time=  15.3s\n",
      "[CV 1/2; 16/27] START C=2, cache_size=6000, degree=3, kernel=rbf................\n",
      "[CV 1/2; 16/27] END C=2, cache_size=6000, degree=3, kernel=rbf; accuracy: (train=0.802, test=0.800) f1: (train=0.243, test=0.223) total time=  15.7s\n",
      "[CV 2/2; 16/27] START C=2, cache_size=6000, degree=3, kernel=rbf................\n",
      "[CV 2/2; 16/27] END C=2, cache_size=6000, degree=3, kernel=rbf; accuracy: (train=0.808, test=0.811) f1: (train=0.308, test=0.324) total time=  15.3s\n",
      "[CV 1/2; 17/27] START C=2, cache_size=6000, degree=4, kernel=rbf................\n",
      "[CV 1/2; 17/27] END C=2, cache_size=6000, degree=4, kernel=rbf; accuracy: (train=0.802, test=0.800) f1: (train=0.243, test=0.223) total time=  15.8s\n",
      "[CV 2/2; 17/27] START C=2, cache_size=6000, degree=4, kernel=rbf................\n",
      "[CV 2/2; 17/27] END C=2, cache_size=6000, degree=4, kernel=rbf; accuracy: (train=0.808, test=0.811) f1: (train=0.308, test=0.324) total time=  15.3s\n",
      "[CV 1/2; 18/27] START C=2, cache_size=6000, degree=5, kernel=rbf................\n",
      "[CV 1/2; 18/27] END C=2, cache_size=6000, degree=5, kernel=rbf; accuracy: (train=0.802, test=0.800) f1: (train=0.243, test=0.223) total time=  15.7s\n",
      "[CV 2/2; 18/27] START C=2, cache_size=6000, degree=5, kernel=rbf................\n",
      "[CV 2/2; 18/27] END C=2, cache_size=6000, degree=5, kernel=rbf; accuracy: (train=0.808, test=0.811) f1: (train=0.308, test=0.324) total time=  15.4s\n",
      "[CV 1/2; 19/27] START C=5, cache_size=200, degree=3, kernel=rbf.................\n"
     ]
    },
    {
     "name": "stdout",
     "output_type": "stream",
     "text": [
      "[CV 1/2; 19/27] END C=5, cache_size=200, degree=3, kernel=rbf; accuracy: (train=0.810, test=0.807) f1: (train=0.318, test=0.301) total time=  15.3s\n",
      "[CV 2/2; 19/27] START C=5, cache_size=200, degree=3, kernel=rbf.................\n",
      "[CV 2/2; 19/27] END C=5, cache_size=200, degree=3, kernel=rbf; accuracy: (train=0.812, test=0.814) f1: (train=0.357, test=0.365) total time=  15.2s\n",
      "[CV 1/2; 20/27] START C=5, cache_size=200, degree=4, kernel=rbf.................\n",
      "[CV 1/2; 20/27] END C=5, cache_size=200, degree=4, kernel=rbf; accuracy: (train=0.810, test=0.807) f1: (train=0.318, test=0.301) total time=  15.2s\n",
      "[CV 2/2; 20/27] START C=5, cache_size=200, degree=4, kernel=rbf.................\n",
      "[CV 2/2; 20/27] END C=5, cache_size=200, degree=4, kernel=rbf; accuracy: (train=0.812, test=0.814) f1: (train=0.357, test=0.365) total time=  15.2s\n",
      "[CV 1/2; 21/27] START C=5, cache_size=200, degree=5, kernel=rbf.................\n",
      "[CV 1/2; 21/27] END C=5, cache_size=200, degree=5, kernel=rbf; accuracy: (train=0.810, test=0.807) f1: (train=0.318, test=0.301) total time=  15.3s\n",
      "[CV 2/2; 21/27] START C=5, cache_size=200, degree=5, kernel=rbf.................\n",
      "[CV 2/2; 21/27] END C=5, cache_size=200, degree=5, kernel=rbf; accuracy: (train=0.812, test=0.814) f1: (train=0.357, test=0.365) total time=  15.1s\n",
      "[CV 1/2; 22/27] START C=5, cache_size=2000, degree=3, kernel=rbf................\n",
      "[CV 1/2; 22/27] END C=5, cache_size=2000, degree=3, kernel=rbf; accuracy: (train=0.810, test=0.807) f1: (train=0.318, test=0.301) total time=  15.6s\n",
      "[CV 2/2; 22/27] START C=5, cache_size=2000, degree=3, kernel=rbf................\n",
      "[CV 2/2; 22/27] END C=5, cache_size=2000, degree=3, kernel=rbf; accuracy: (train=0.812, test=0.814) f1: (train=0.357, test=0.365) total time=  15.9s\n",
      "[CV 1/2; 23/27] START C=5, cache_size=2000, degree=4, kernel=rbf................\n",
      "[CV 1/2; 23/27] END C=5, cache_size=2000, degree=4, kernel=rbf; accuracy: (train=0.810, test=0.807) f1: (train=0.318, test=0.301) total time=  16.0s\n",
      "[CV 2/2; 23/27] START C=5, cache_size=2000, degree=4, kernel=rbf................\n",
      "[CV 2/2; 23/27] END C=5, cache_size=2000, degree=4, kernel=rbf; accuracy: (train=0.812, test=0.814) f1: (train=0.357, test=0.365) total time=  15.7s\n",
      "[CV 1/2; 24/27] START C=5, cache_size=2000, degree=5, kernel=rbf................\n",
      "[CV 1/2; 24/27] END C=5, cache_size=2000, degree=5, kernel=rbf; accuracy: (train=0.810, test=0.807) f1: (train=0.318, test=0.301) total time=  15.9s\n",
      "[CV 2/2; 24/27] START C=5, cache_size=2000, degree=5, kernel=rbf................\n",
      "[CV 2/2; 24/27] END C=5, cache_size=2000, degree=5, kernel=rbf; accuracy: (train=0.812, test=0.814) f1: (train=0.357, test=0.365) total time=  15.8s\n",
      "[CV 1/2; 25/27] START C=5, cache_size=6000, degree=3, kernel=rbf................\n",
      "[CV 1/2; 25/27] END C=5, cache_size=6000, degree=3, kernel=rbf; accuracy: (train=0.810, test=0.807) f1: (train=0.318, test=0.301) total time=  16.5s\n",
      "[CV 2/2; 25/27] START C=5, cache_size=6000, degree=3, kernel=rbf................\n",
      "[CV 2/2; 25/27] END C=5, cache_size=6000, degree=3, kernel=rbf; accuracy: (train=0.812, test=0.814) f1: (train=0.357, test=0.365) total time=  16.3s\n",
      "[CV 1/2; 26/27] START C=5, cache_size=6000, degree=4, kernel=rbf................\n",
      "[CV 1/2; 26/27] END C=5, cache_size=6000, degree=4, kernel=rbf; accuracy: (train=0.810, test=0.807) f1: (train=0.318, test=0.301) total time=  16.6s\n",
      "[CV 2/2; 26/27] START C=5, cache_size=6000, degree=4, kernel=rbf................\n",
      "[CV 2/2; 26/27] END C=5, cache_size=6000, degree=4, kernel=rbf; accuracy: (train=0.812, test=0.814) f1: (train=0.357, test=0.365) total time=  17.3s\n",
      "[CV 1/2; 27/27] START C=5, cache_size=6000, degree=5, kernel=rbf................\n",
      "[CV 1/2; 27/27] END C=5, cache_size=6000, degree=5, kernel=rbf; accuracy: (train=0.810, test=0.807) f1: (train=0.318, test=0.301) total time=  17.2s\n",
      "[CV 2/2; 27/27] START C=5, cache_size=6000, degree=5, kernel=rbf................\n",
      "[CV 2/2; 27/27] END C=5, cache_size=6000, degree=5, kernel=rbf; accuracy: (train=0.812, test=0.814) f1: (train=0.357, test=0.365) total time=  17.3s\n"
     ]
    },
    {
     "data": {
      "text/plain": [
       "GridSearchCV(cv=2, estimator=SVC(),\n",
       "             param_grid={'C': [1, 2, 5], 'cache_size': [200, 2000, 6000],\n",
       "                         'degree': [3, 4, 5], 'kernel': ['rbf']},\n",
       "             refit='accuracy', return_train_score=True,\n",
       "             scoring=['accuracy', 'f1'], verbose=10)"
      ]
     },
     "execution_count": 12,
     "metadata": {},
     "output_type": "execute_result"
    }
   ],
   "source": [
    "parameters = {'kernel':[ 'rbf'], 'C':[1,2, 5] ,'degree':[3,4,5],'cache_size':[200,2000,6000]}\n",
    "svc = svm.SVC()\n",
    "clf = GridSearchCV(svc, parameters,cv=2 ,refit='accuracy',verbose=10,scoring = ['accuracy','f1'] ,return_train_score=True)\n",
    "clf.fit(X_train, y_train)"
   ]
  },
  {
   "cell_type": "code",
   "execution_count": 14,
   "id": "6d817cdb",
   "metadata": {
    "scrolled": true
   },
   "outputs": [
    {
     "data": {
      "text/plain": [
       "0.8102222222222222"
      ]
     },
     "execution_count": 14,
     "metadata": {},
     "output_type": "execute_result"
    }
   ],
   "source": [
    "clf.best_score_"
   ]
  },
  {
   "cell_type": "code",
   "execution_count": 15,
   "id": "51f7f8c5",
   "metadata": {
    "scrolled": true
   },
   "outputs": [
    {
     "data": {
      "text/plain": [
       "{'C': 5, 'cache_size': 200, 'degree': 3, 'kernel': 'rbf'}"
      ]
     },
     "execution_count": 15,
     "metadata": {},
     "output_type": "execute_result"
    }
   ],
   "source": [
    "clf.best_params_"
   ]
  },
  {
   "cell_type": "code",
   "execution_count": 11,
   "id": "215acd78",
   "metadata": {},
   "outputs": [],
   "source": [
    "svc2=svm.SVC(C=5,cache_size=100000,degree=3,kernel='rbf')"
   ]
  },
  {
   "cell_type": "code",
   "execution_count": 12,
   "id": "5096e576",
   "metadata": {},
   "outputs": [
    {
     "data": {
      "text/plain": [
       "SVC(C=5, cache_size=100000)"
      ]
     },
     "execution_count": 12,
     "metadata": {},
     "output_type": "execute_result"
    }
   ],
   "source": [
    "svc2.fit(X_train,y_train)"
   ]
  },
  {
   "cell_type": "code",
   "execution_count": 13,
   "id": "877c7c4a",
   "metadata": {},
   "outputs": [],
   "source": [
    "y_pred=svc2.predict(X_test)"
   ]
  },
  {
   "cell_type": "code",
   "execution_count": 14,
   "id": "53ded487",
   "metadata": {
    "scrolled": true
   },
   "outputs": [
    {
     "name": "stdout",
     "output_type": "stream",
     "text": [
      "[[12010   288]\n",
      " [ 2655   797]]\n"
     ]
    },
    {
     "data": {
      "text/plain": [
       "0.8131428571428572"
      ]
     },
     "execution_count": 14,
     "metadata": {},
     "output_type": "execute_result"
    }
   ],
   "source": [
    "cm = confusion_matrix(y_test, y_pred)\n",
    "print(cm)\n",
    "accuracy_score(y_test, y_pred)"
   ]
  },
  {
   "cell_type": "code",
   "execution_count": null,
   "id": "bece3406",
   "metadata": {},
   "outputs": [],
   "source": []
  }
 ],
 "metadata": {
  "kernelspec": {
   "display_name": "Python 3 (ipykernel)",
   "language": "python",
   "name": "python3"
  },
  "language_info": {
   "codemirror_mode": {
    "name": "ipython",
    "version": 3
   },
   "file_extension": ".py",
   "mimetype": "text/x-python",
   "name": "python",
   "nbconvert_exporter": "python",
   "pygments_lexer": "ipython3",
   "version": "3.9.13"
  }
 },
 "nbformat": 4,
 "nbformat_minor": 5
}
